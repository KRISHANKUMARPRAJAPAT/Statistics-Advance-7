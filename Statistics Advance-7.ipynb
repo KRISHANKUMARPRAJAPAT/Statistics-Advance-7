{
 "cells": [
  {
   "cell_type": "markdown",
   "id": "34cfc769-a177-44f7-8f4b-79c80856becc",
   "metadata": {},
   "source": [
    "# Q1. Write a Python function that takes in two arrays of data and calculates the F-value for a variance ratio test. The function should return the F-value and the corresponding p-value for the test."
   ]
  },
  {
   "cell_type": "code",
   "execution_count": 1,
   "id": "0412ccc2-2dbd-4b32-9cae-0cfe6d4fc204",
   "metadata": {},
   "outputs": [
    {
     "name": "stdout",
     "output_type": "stream",
     "text": [
      "F-value: 2.4032697547683926\n",
      "p-value: 0.15967812288374558\n"
     ]
    }
   ],
   "source": [
    "# Ans: 1 \n",
    "\n",
    "import numpy as np\n",
    "from scipy.stats import f_oneway\n",
    "\n",
    "def variance_ratio_test(arr1, arr2):\n",
    "    \"\"\"\n",
    "    Perform a variance ratio test (F-test) on two arrays of data.\n",
    "\n",
    "    Parameters:\n",
    "        arr1 (array-like): First array of data.\n",
    "        arr2 (array-like): Second array of data.\n",
    "\n",
    "    Returns:\n",
    "        F_value (float): The F-value from the variance ratio test.\n",
    "        p_value (float): The corresponding p-value for the test.\n",
    "    \"\"\"\n",
    "    # Convert the input arrays to numpy arrays\n",
    "    arr1 = np.array(arr1)\n",
    "    arr2 = np.array(arr2)\n",
    "\n",
    "    # Perform the variance ratio test (F-test)\n",
    "    F_value, p_value = f_oneway(arr1, arr2)\n",
    "\n",
    "    return F_value, p_value\n",
    "\n",
    "# Example usage:\n",
    "data1 = [10, 15, 12, 18, 20]\n",
    "data2 = [5, 8, 11, 14, 16]\n",
    "\n",
    "F_value, p_value = variance_ratio_test(data1, data2)\n",
    "print(\"F-value:\", F_value)\n",
    "print(\"p-value:\", p_value)"
   ]
  },
  {
   "cell_type": "code",
   "execution_count": null,
   "id": "ce2a4d4a-6208-421c-9647-bc83731ae46a",
   "metadata": {},
   "outputs": [],
   "source": []
  },
  {
   "cell_type": "markdown",
   "id": "72a9f772-344d-4581-a432-30404133acc0",
   "metadata": {},
   "source": [
    "# Q2. Given a significance level of 0.05 and the degrees of freedom for the numerator and denominator of an F-distribution, write a Python function that returns the critical F-value for a two-tailed test."
   ]
  },
  {
   "cell_type": "code",
   "execution_count": 2,
   "id": "f601cfd9-c055-42ae-a416-67318271085c",
   "metadata": {},
   "outputs": [
    {
     "name": "stdout",
     "output_type": "stream",
     "text": [
      "Critical F-value: 3.8586986662732143\n"
     ]
    }
   ],
   "source": [
    "# Ans: 2 \n",
    "\n",
    "from scipy.stats import f\n",
    "\n",
    "def critical_f_value(alpha, df_num, df_den):\n",
    "    \"\"\"\n",
    "    Calculate the critical F-value for a two-tailed test.\n",
    "\n",
    "    Parameters:\n",
    "        alpha (float): The significance level (e.g., 0.05 for 5% significance).\n",
    "        df_num (int): Degrees of freedom for the numerator.\n",
    "        df_den (int): Degrees of freedom for the denominator.\n",
    "\n",
    "    Returns:\n",
    "        crit_f_value (float): The critical F-value for the two-tailed test.\n",
    "    \"\"\"\n",
    "    # Calculate the critical F-value for a two-tailed test\n",
    "    crit_f_value = f.ppf(1 - alpha / 2, df_num, df_den)\n",
    "\n",
    "    return crit_f_value\n",
    "\n",
    "# Example usage:\n",
    "significance_level = 0.05\n",
    "degrees_of_freedom_num = 3\n",
    "degrees_of_freedom_den = 20\n",
    "\n",
    "crit_f_value = critical_f_value(significance_level, degrees_of_freedom_num, degrees_of_freedom_den)\n",
    "print(\"Critical F-value:\", crit_f_value)"
   ]
  },
  {
   "cell_type": "code",
   "execution_count": null,
   "id": "9e8b82c1-0d6d-4f6a-8454-5b2e751bad08",
   "metadata": {},
   "outputs": [],
   "source": []
  },
  {
   "cell_type": "markdown",
   "id": "fa857d57-0b7e-4a28-86c0-d70c4c90a060",
   "metadata": {},
   "source": [
    "# Q3. Write a Python program that generates random samples from two normal distributions with known variances and uses an F-test to determine if the variances are equal. The program should output the F- value, degrees of freedom, and p-value for the test."
   ]
  },
  {
   "cell_type": "code",
   "execution_count": 3,
   "id": "4473faa3-e7e8-4dbb-a396-7647d37fc03c",
   "metadata": {},
   "outputs": [
    {
     "name": "stdout",
     "output_type": "stream",
     "text": [
      "F-value: 1.5143904526080045\n",
      "Degrees of freedom (numerator): 49\n",
      "Degrees of freedom (denominator): 49\n",
      "p-value: 0.22141591563741264\n"
     ]
    }
   ],
   "source": [
    "# Ans: 3 \n",
    "\n",
    "def variance_ratio_test(arr1, arr2):\n",
    "    \"\"\"\n",
    "    Perform a variance ratio test (F-test) on two arrays of data.\n",
    "\n",
    "    Parameters:\n",
    "        arr1 (array-like): First array of data.\n",
    "        arr2 (array-like): Second array of data.\n",
    "\n",
    "    Returns:\n",
    "        F_value (float): The F-value from the variance ratio test.\n",
    "        df_num (int): Degrees of freedom for the numerator.\n",
    "        df_den (int): Degrees of freedom for the denominator.\n",
    "        p_value (float): The corresponding p-value for the test.\n",
    "    \"\"\"\n",
    "    # Perform the variance ratio test (F-test)\n",
    "    F_value, p_value = f_oneway(arr1, arr2)\n",
    "\n",
    "    # Calculate degrees of freedom for the numerator and denominator\n",
    "    df_num = len(arr1) - 1\n",
    "    df_den = len(arr2) - 1\n",
    "\n",
    "    return F_value, df_num, df_den, p_value\n",
    "\n",
    "def main():\n",
    "    # Set seed for reproducibility\n",
    "    np.random.seed(42)\n",
    "\n",
    "    # Known variances of the normal distributions\n",
    "    variance1 = 4.0\n",
    "    variance2 = 6.0\n",
    "\n",
    "    # Generate random samples from two normal distributions with known variances\n",
    "    sample_size = 50\n",
    "    sample1 = np.random.normal(loc=0, scale=np.sqrt(variance1), size=sample_size)\n",
    "    sample2 = np.random.normal(loc=0, scale=np.sqrt(variance2), size=sample_size)\n",
    "\n",
    "    # Perform the F-test\n",
    "    F_value, df_num, df_den, p_value = variance_ratio_test(sample1, sample2)\n",
    "\n",
    "    # Output the results\n",
    "    print(\"F-value:\", F_value)\n",
    "    print(\"Degrees of freedom (numerator):\", df_num)\n",
    "    print(\"Degrees of freedom (denominator):\", df_den)\n",
    "    print(\"p-value:\", p_value)\n",
    "\n",
    "if __name__ == \"__main__\":\n",
    "    main()"
   ]
  },
  {
   "cell_type": "code",
   "execution_count": null,
   "id": "ac923930-faf6-4888-9d1b-858535387fd6",
   "metadata": {},
   "outputs": [],
   "source": []
  },
  {
   "cell_type": "markdown",
   "id": "8689132b-19d4-4e45-ba6a-e80474b37fc2",
   "metadata": {},
   "source": [
    "# Q4.The variances of two populations are known to be 10 and 15. A sample of 12 observations is taken from each population. Conduct an F-test at the 5% significance level to determine if the variances are significantly different."
   ]
  },
  {
   "cell_type": "code",
   "execution_count": 4,
   "id": "29802de7-f293-4bac-8ff0-6bc97a8c5459",
   "metadata": {},
   "outputs": [
    {
     "name": "stdout",
     "output_type": "stream",
     "text": [
      "F-value: 6.08206374265242\n",
      "Degrees of freedom (numerator): 11\n",
      "Degrees of freedom (denominator): 11\n",
      "p-value: 0.021924080753184683\n"
     ]
    }
   ],
   "source": [
    "# Ans: 4\n",
    "\n",
    "def variance_ratio_test(arr1, arr2):\n",
    "    \"\"\"\n",
    "    Perform a variance ratio test (F-test) on two arrays of data.\n",
    "\n",
    "    Parameters:\n",
    "        arr1 (array-like): First array of data.\n",
    "        arr2 (array-like): Second array of data.\n",
    "\n",
    "    Returns:\n",
    "        F_value (float): The F-value from the variance ratio test.\n",
    "        df_num (int): Degrees of freedom for the numerator.\n",
    "        df_den (int): Degrees of freedom for the denominator.\n",
    "        p_value (float): The corresponding p-value for the test.\n",
    "    \"\"\"\n",
    "    # Perform the variance ratio test (F-test)\n",
    "    F_value, p_value = f_oneway(arr1, arr2)\n",
    "\n",
    "    # Calculate degrees of freedom for the numerator and denominator\n",
    "    df_num = len(arr1) - 1\n",
    "    df_den = len(arr2) - 1\n",
    "\n",
    "    return F_value, df_num, df_den, p_value\n",
    "\n",
    "def main():\n",
    "    # Set seed for reproducibility\n",
    "    np.random.seed(42)\n",
    "\n",
    "    # Known variances of the populations\n",
    "    variance1 = 10.0\n",
    "    variance2 = 15.0\n",
    "\n",
    "    # Sample size\n",
    "    sample_size = 12\n",
    "\n",
    "    # Generate random samples from two normal distributions with known variances\n",
    "    sample1 = np.random.normal(loc=0, scale=np.sqrt(variance1), size=sample_size)\n",
    "    sample2 = np.random.normal(loc=0, scale=np.sqrt(variance2), size=sample_size)\n",
    "\n",
    "    # Perform the F-test\n",
    "    F_value, df_num, df_den, p_value = variance_ratio_test(sample1, sample2)\n",
    "\n",
    "    # Output the results\n",
    "    print(\"F-value:\", F_value)\n",
    "    print(\"Degrees of freedom (numerator):\", df_num)\n",
    "    print(\"Degrees of freedom (denominator):\", df_den)\n",
    "    print(\"p-value:\", p_value)\n",
    "\n",
    "if __name__ == \"__main__\":\n",
    "    main()"
   ]
  },
  {
   "cell_type": "code",
   "execution_count": null,
   "id": "3d686a1a-2a6e-4673-a708-b8016ac2704e",
   "metadata": {},
   "outputs": [],
   "source": []
  },
  {
   "cell_type": "markdown",
   "id": "f5658619-d439-4fd2-bbe5-67f8a31bae93",
   "metadata": {},
   "source": [
    "# Q5. A manufacturer claims that the variance of the diameter of a certain product is 0.005. A sample of 25 products is taken, and the sample variance is found to be 0.006. Conduct an F-test at the 1% significance level to determine if the claim is justified."
   ]
  },
  {
   "cell_type": "code",
   "execution_count": 5,
   "id": "c94c2f52-8252-46fd-9b2a-3c2a59fd78d9",
   "metadata": {},
   "outputs": [
    {
     "name": "stdout",
     "output_type": "stream",
     "text": [
      "Sample Variance: 0.004574968728404552\n",
      "F-value: nan\n",
      "Degrees of freedom (numerator): 24\n",
      "Degrees of freedom (denominator): -1\n",
      "p-value: nan\n"
     ]
    },
    {
     "name": "stderr",
     "output_type": "stream",
     "text": [
      "/opt/conda/lib/python3.10/site-packages/scipy/stats/_stats_py.py:3872: DegenerateDataWarning: at least one input has length 0\n",
      "  warnings.warn(stats.DegenerateDataWarning('at least one input '\n"
     ]
    }
   ],
   "source": [
    "# Ans: 5 \n",
    "\n",
    "def variance_ratio_test(arr1, arr2):\n",
    "    \"\"\"\n",
    "    Perform a variance ratio test (F-test) on two arrays of data.\n",
    "\n",
    "    Parameters:\n",
    "        arr1 (array-like): First array of data.\n",
    "        arr2 (array-like): Second array of data.\n",
    "\n",
    "    Returns:\n",
    "        F_value (float): The F-value from the variance ratio test.\n",
    "        df_num (int): Degrees of freedom for the numerator.\n",
    "        df_den (int): Degrees of freedom for the denominator.\n",
    "        p_value (float): The corresponding p-value for the test.\n",
    "    \"\"\"\n",
    "    # Perform the variance ratio test (F-test)\n",
    "    F_value, p_value = f_oneway(arr1, arr2)\n",
    "\n",
    "    # Calculate degrees of freedom for the numerator and denominator\n",
    "    df_num = len(arr1) - 1\n",
    "    df_den = len(arr2) - 1\n",
    "\n",
    "    return F_value, df_num, df_den, p_value\n",
    "\n",
    "def main():\n",
    "    # Set seed for reproducibility\n",
    "    np.random.seed(42)\n",
    "\n",
    "    # Claimed variance by the manufacturer\n",
    "    claimed_variance = 0.005\n",
    "\n",
    "    # Sample size\n",
    "    sample_size = 25\n",
    "\n",
    "    # Generate random sample from a normal distribution with the claimed variance\n",
    "    sample = np.random.normal(loc=0, scale=np.sqrt(claimed_variance), size=sample_size)\n",
    "\n",
    "    # Sample variance\n",
    "    sample_variance = np.var(sample, ddof=1)  # Use ddof=1 for unbiased sample variance\n",
    "\n",
    "    # Perform the F-test\n",
    "    F_value, df_num, df_den, p_value = variance_ratio_test(sample, [])\n",
    "\n",
    "    # Output the results\n",
    "    print(\"Sample Variance:\", sample_variance)\n",
    "    print(\"F-value:\", F_value)\n",
    "    print(\"Degrees of freedom (numerator):\", df_num)\n",
    "    print(\"Degrees of freedom (denominator):\", df_den)\n",
    "    print(\"p-value:\", p_value)\n",
    "\n",
    "if __name__ == \"__main__\":\n",
    "    main()"
   ]
  },
  {
   "cell_type": "code",
   "execution_count": null,
   "id": "4d2edd42-7e72-4477-a3a6-0f4d0574f8e9",
   "metadata": {},
   "outputs": [],
   "source": []
  },
  {
   "cell_type": "markdown",
   "id": "5d2a11e1-9f45-4cbf-8c9b-633d3003a2d9",
   "metadata": {},
   "source": [
    "# Q6. Write a Python function that takes in the degrees of freedom for the numerator and denominator of an F-distribution and calculates the mean and variance of the distribution. The function should return the mean and variance as a tuple."
   ]
  },
  {
   "cell_type": "code",
   "execution_count": 6,
   "id": "3945e69c-f0a3-4b66-a542-130ac53235ae",
   "metadata": {},
   "outputs": [
    {
     "name": "stdout",
     "output_type": "stream",
     "text": [
      "Mean of F-distribution: 1.1111111111111112\n",
      "Variance of F-distribution: 1.0802469135802468\n"
     ]
    }
   ],
   "source": [
    "# Ans: 6 \n",
    "\n",
    "def f_distribution_mean_variance(df_num, df_den):\n",
    "    \"\"\"\n",
    "    Calculate the mean and variance of the F-distribution.\n",
    "\n",
    "    Parameters:\n",
    "        df_num (int): Degrees of freedom for the numerator.\n",
    "        df_den (int): Degrees of freedom for the denominator.\n",
    "\n",
    "    Returns:\n",
    "        mean (float): The mean of the F-distribution.\n",
    "        variance (float): The variance of the F-distribution.\n",
    "    \"\"\"\n",
    "    # Calculate the mean and variance of the F-distribution\n",
    "    mean = df_den / (df_den - 2)\n",
    "    variance = (2 * df_den**2 * (df_num + df_den - 2)) / (df_num * (df_den - 2)**2 * (df_den - 4))\n",
    "\n",
    "    return mean, variance\n",
    "\n",
    "# Example usage:\n",
    "degrees_of_freedom_num = 3\n",
    "degrees_of_freedom_den = 20\n",
    "mean, variance = f_distribution_mean_variance(degrees_of_freedom_num, degrees_of_freedom_den)\n",
    "print(\"Mean of F-distribution:\", mean)\n",
    "print(\"Variance of F-distribution:\", variance)"
   ]
  },
  {
   "cell_type": "code",
   "execution_count": null,
   "id": "3d807d48-1c11-43f3-8cc7-415217dba384",
   "metadata": {},
   "outputs": [],
   "source": []
  },
  {
   "cell_type": "markdown",
   "id": "301760fe-f566-4e80-9bc4-8fbcad6ca4e1",
   "metadata": {},
   "source": [
    "# Q7. A random sample of 10 measurements is taken from a normal population with unknown variance. The sample variance is found to be 25. Another random sample of 15 measurements is taken from another normal population with unknown variance, and the sample variance is found to be 20. Conduct an F-test at the 10% significance level to determine if the variances are significantly different."
   ]
  },
  {
   "cell_type": "code",
   "execution_count": 7,
   "id": "0b999700-70fc-4c6f-9699-24fb21d985d3",
   "metadata": {},
   "outputs": [
    {
     "name": "stdout",
     "output_type": "stream",
     "text": [
      "Sample Variance 1: 25\n",
      "Sample Variance 2: 20\n",
      "F-value: 9.385483069468613\n",
      "Degrees of freedom (numerator): 9\n",
      "Degrees of freedom (denominator): 14\n",
      "p-value: 0.005501846884736198\n"
     ]
    }
   ],
   "source": [
    "# Ans: 7 \n",
    "\n",
    "def variance_ratio_test(arr1, arr2):\n",
    "    \"\"\"\n",
    "    Perform a variance ratio test (F-test) on two arrays of data.\n",
    "\n",
    "    Parameters:\n",
    "        arr1 (array-like): First array of data.\n",
    "        arr2 (array-like): Second array of data.\n",
    "\n",
    "    Returns:\n",
    "        F_value (float): The F-value from the variance ratio test.\n",
    "        df_num (int): Degrees of freedom for the numerator.\n",
    "        df_den (int): Degrees of freedom for the denominator.\n",
    "        p_value (float): The corresponding p-value for the test.\n",
    "    \"\"\"\n",
    "    # Perform the variance ratio test (F-test)\n",
    "    F_value, p_value = f_oneway(arr1, arr2)\n",
    "\n",
    "    # Calculate degrees of freedom for the numerator and denominator\n",
    "    df_num = len(arr1) - 1\n",
    "    df_den = len(arr2) - 1\n",
    "\n",
    "    return F_value, df_num, df_den, p_value\n",
    "\n",
    "def main():\n",
    "    # Set seed for reproducibility\n",
    "    np.random.seed(42)\n",
    "\n",
    "    # Sample variances of two populations\n",
    "    sample_variance1 = 25\n",
    "    sample_variance2 = 20\n",
    "\n",
    "    # Sample sizes\n",
    "    sample_size1 = 10\n",
    "    sample_size2 = 15\n",
    "\n",
    "    # Generate random samples from two normal distributions with unknown variances\n",
    "    sample1 = np.random.normal(loc=0, scale=np.sqrt(sample_variance1), size=sample_size1)\n",
    "    sample2 = np.random.normal(loc=0, scale=np.sqrt(sample_variance2), size=sample_size2)\n",
    "\n",
    "    # Perform the F-test\n",
    "    F_value, df_num, df_den, p_value = variance_ratio_test(sample1, sample2)\n",
    "\n",
    "    # Output the results\n",
    "    print(\"Sample Variance 1:\", sample_variance1)\n",
    "    print(\"Sample Variance 2:\", sample_variance2)\n",
    "    print(\"F-value:\", F_value)\n",
    "    print(\"Degrees of freedom (numerator):\", df_num)\n",
    "    print(\"Degrees of freedom (denominator):\", df_den)\n",
    "    print(\"p-value:\", p_value)\n",
    "\n",
    "if __name__ == \"__main__\":\n",
    "    main()"
   ]
  },
  {
   "cell_type": "code",
   "execution_count": null,
   "id": "ca2b6e3b-5601-4266-b8ed-f26b160b992b",
   "metadata": {},
   "outputs": [],
   "source": []
  },
  {
   "cell_type": "markdown",
   "id": "72435b40-e1f6-4293-b718-3c22187c1d6b",
   "metadata": {},
   "source": [
    "# Q8. The following data represent the waiting times in minutes at two different restaurants on a Saturday night: Restaurant A: 24, 25, 28, 23, 22, 20, 27; Restaurant B: 31, 33, 35, 30, 32, 36. Conduct an F-test at the 5% significance level to determine if the variances are significantly different."
   ]
  },
  {
   "cell_type": "code",
   "execution_count": 8,
   "id": "65eb899c-bc0b-46cf-9260-292a5e9a4f5b",
   "metadata": {},
   "outputs": [
    {
     "name": "stdout",
     "output_type": "stream",
     "text": [
      "Sample Variance A: 7.80952380952381\n",
      "Sample Variance B: 5.366666666666667\n",
      "F-value: 36.42289051820553\n",
      "Degrees of freedom (numerator): 6\n",
      "Degrees of freedom (denominator): 5\n",
      "p-value: 8.48759371471029e-05\n"
     ]
    }
   ],
   "source": [
    "# Ans: 8 \n",
    "\n",
    "def variance_ratio_test(arr1, arr2):\n",
    "    \"\"\"\n",
    "    Perform a variance ratio test (F-test) on two arrays of data.\n",
    "\n",
    "    Parameters:\n",
    "        arr1 (array-like): First array of data.\n",
    "        arr2 (array-like): Second array of data.\n",
    "\n",
    "    Returns:\n",
    "        F_value (float): The F-value from the variance ratio test.\n",
    "        df_num (int): Degrees of freedom for the numerator.\n",
    "        df_den (int): Degrees of freedom for the denominator.\n",
    "        p_value (float): The corresponding p-value for the test.\n",
    "    \"\"\"\n",
    "    # Perform the variance ratio test (F-test)\n",
    "    F_value, p_value = f_oneway(arr1, arr2)\n",
    "\n",
    "    # Calculate degrees of freedom for the numerator and denominator\n",
    "    df_num = len(arr1) - 1\n",
    "    df_den = len(arr2) - 1\n",
    "\n",
    "    return F_value, df_num, df_den, p_value\n",
    "\n",
    "def main():\n",
    "    # Set seed for reproducibility\n",
    "    np.random.seed(42)\n",
    "\n",
    "    # Waiting times data for two restaurants\n",
    "    waiting_times_restaurant_a = [24, 25, 28, 23, 22, 20, 27]\n",
    "    waiting_times_restaurant_b = [31, 33, 35, 30, 32, 36]\n",
    "\n",
    "    # Sample variances\n",
    "    sample_variance_a = np.var(waiting_times_restaurant_a, ddof=1)  # Use ddof=1 for unbiased sample variance\n",
    "    sample_variance_b = np.var(waiting_times_restaurant_b, ddof=1)\n",
    "\n",
    "    # Perform the F-test\n",
    "    F_value, df_num, df_den, p_value = variance_ratio_test(waiting_times_restaurant_a, waiting_times_restaurant_b)\n",
    "\n",
    "    # Output the results\n",
    "    print(\"Sample Variance A:\", sample_variance_a)\n",
    "    print(\"Sample Variance B:\", sample_variance_b)\n",
    "    print(\"F-value:\", F_value)\n",
    "    print(\"Degrees of freedom (numerator):\", df_num)\n",
    "    print(\"Degrees of freedom (denominator):\", df_den)\n",
    "    print(\"p-value:\", p_value)\n",
    "\n",
    "if __name__ == \"__main__\":\n",
    "    main()"
   ]
  },
  {
   "cell_type": "code",
   "execution_count": null,
   "id": "8c58be80-75d4-4e15-a292-d2e9886e4740",
   "metadata": {},
   "outputs": [],
   "source": []
  },
  {
   "cell_type": "markdown",
   "id": "1a985885-71a1-484d-927e-4132d34948cb",
   "metadata": {},
   "source": [
    "# Q9. The following data represent the test scores of two groups of students: Group A: 80, 85, 90, 92, 87, 83; Group B: 75, 78, 82, 79, 81, 84. Conduct an F-test at the 1% significance level to determine if the variances are significantly different."
   ]
  },
  {
   "cell_type": "code",
   "execution_count": 9,
   "id": "073800b2-569d-452c-a9a6-865ef78fa1b7",
   "metadata": {},
   "outputs": [
    {
     "name": "stdout",
     "output_type": "stream",
     "text": [
      "Sample Variance Group A: 19.76666666666667\n",
      "Sample Variance Group B: 10.166666666666666\n",
      "F-value: 8.040089086859687\n",
      "Degrees of freedom (numerator): 5\n",
      "Degrees of freedom (denominator): 5\n",
      "p-value: 0.017684171924487787\n"
     ]
    }
   ],
   "source": [
    "# Ans: 9 \n",
    "\n",
    "def variance_ratio_test(arr1, arr2):\n",
    "    \"\"\"\n",
    "    Perform a variance ratio test (F-test) on two arrays of data.\n",
    "\n",
    "    Parameters:\n",
    "        arr1 (array-like): First array of data.\n",
    "        arr2 (array-like): Second array of data.\n",
    "\n",
    "    Returns:\n",
    "        F_value (float): The F-value from the variance ratio test.\n",
    "        df_num (int): Degrees of freedom for the numerator.\n",
    "        df_den (int): Degrees of freedom for the denominator.\n",
    "        p_value (float): The corresponding p-value for the test.\n",
    "    \"\"\"\n",
    "    # Perform the variance ratio test (F-test)\n",
    "    F_value, p_value = f_oneway(arr1, arr2)\n",
    "\n",
    "    # Calculate degrees of freedom for the numerator and denominator\n",
    "    df_num = len(arr1) - 1\n",
    "    df_den = len(arr2) - 1\n",
    "\n",
    "    return F_value, df_num, df_den, p_value\n",
    "\n",
    "def main():\n",
    "    # Set seed for reproducibility\n",
    "    np.random.seed(42)\n",
    "\n",
    "    # Test scores data for two groups of students\n",
    "    group_a_scores = [80, 85, 90, 92, 87, 83]\n",
    "    group_b_scores = [75, 78, 82, 79, 81, 84]\n",
    "\n",
    "    # Sample variances\n",
    "    sample_variance_a = np.var(group_a_scores, ddof=1)  # Use ddof=1 for unbiased sample variance\n",
    "    sample_variance_b = np.var(group_b_scores, ddof=1)\n",
    "\n",
    "    # Perform the F-test\n",
    "    F_value, df_num, df_den, p_value = variance_ratio_test(group_a_scores, group_b_scores)\n",
    "\n",
    "    # Output the results\n",
    "    print(\"Sample Variance Group A:\", sample_variance_a)\n",
    "    print(\"Sample Variance Group B:\", sample_variance_b)\n",
    "    print(\"F-value:\", F_value)\n",
    "    print(\"Degrees of freedom (numerator):\", df_num)\n",
    "    print(\"Degrees of freedom (denominator):\", df_den)\n",
    "    print(\"p-value:\", p_value)\n",
    "\n",
    "if __name__ == \"__main__\":\n",
    "    main()"
   ]
  },
  {
   "cell_type": "code",
   "execution_count": null,
   "id": "f1c798fc-309b-4b4f-a15a-5e243c0f2e74",
   "metadata": {},
   "outputs": [],
   "source": []
  },
  {
   "cell_type": "code",
   "execution_count": null,
   "id": "18a32b62-1176-4b4b-83ad-c20a407ac2f4",
   "metadata": {},
   "outputs": [],
   "source": []
  }
 ],
 "metadata": {
  "kernelspec": {
   "display_name": "Python 3 (ipykernel)",
   "language": "python",
   "name": "python3"
  },
  "language_info": {
   "codemirror_mode": {
    "name": "ipython",
    "version": 3
   },
   "file_extension": ".py",
   "mimetype": "text/x-python",
   "name": "python",
   "nbconvert_exporter": "python",
   "pygments_lexer": "ipython3",
   "version": "3.10.8"
  }
 },
 "nbformat": 4,
 "nbformat_minor": 5
}
